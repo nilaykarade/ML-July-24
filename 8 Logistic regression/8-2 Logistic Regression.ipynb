{
 "cells": [
  {
   "cell_type": "code",
   "execution_count": 14,
   "id": "ed258756",
   "metadata": {
    "scrolled": true
   },
   "outputs": [
    {
     "data": {
      "text/html": [
       "<div>\n",
       "<style scoped>\n",
       "    .dataframe tbody tr th:only-of-type {\n",
       "        vertical-align: middle;\n",
       "    }\n",
       "\n",
       "    .dataframe tbody tr th {\n",
       "        vertical-align: top;\n",
       "    }\n",
       "\n",
       "    .dataframe thead th {\n",
       "        text-align: right;\n",
       "    }\n",
       "</style>\n",
       "<table border=\"1\" class=\"dataframe\">\n",
       "  <thead>\n",
       "    <tr style=\"text-align: right;\">\n",
       "      <th></th>\n",
       "      <th>Credit Score</th>\n",
       "      <th>Loan Approved</th>\n",
       "    </tr>\n",
       "  </thead>\n",
       "  <tbody>\n",
       "    <tr>\n",
       "      <th>0</th>\n",
       "      <td>402</td>\n",
       "      <td>1</td>\n",
       "    </tr>\n",
       "    <tr>\n",
       "      <th>1</th>\n",
       "      <td>735</td>\n",
       "      <td>0</td>\n",
       "    </tr>\n",
       "    <tr>\n",
       "      <th>2</th>\n",
       "      <td>570</td>\n",
       "      <td>1</td>\n",
       "    </tr>\n",
       "    <tr>\n",
       "      <th>3</th>\n",
       "      <td>406</td>\n",
       "      <td>1</td>\n",
       "    </tr>\n",
       "    <tr>\n",
       "      <th>4</th>\n",
       "      <td>371</td>\n",
       "      <td>1</td>\n",
       "    </tr>\n",
       "  </tbody>\n",
       "</table>\n",
       "</div>"
      ],
      "text/plain": [
       "   Credit Score  Loan Approved\n",
       "0           402              1\n",
       "1           735              0\n",
       "2           570              1\n",
       "3           406              1\n",
       "4           371              1"
      ]
     },
     "execution_count": 14,
     "metadata": {},
     "output_type": "execute_result"
    }
   ],
   "source": [
    "import numpy as np\n",
    "import pandas as pd\n",
    "import matplotlib.pyplot as plt\n",
    "from sklearn.linear_model import LogisticRegression\n",
    "from sklearn.model_selection import train_test_split\n",
    "from sklearn.metrics import accuracy_score\n",
    "\n",
    "# Dataset\n",
    "df = pd.read_csv(\"loan_approval_v1.csv\")\n",
    "df.head()"
   ]
  },
  {
   "cell_type": "code",
   "execution_count": 15,
   "id": "c862821e",
   "metadata": {},
   "outputs": [],
   "source": [
    "# Features and target\n",
    "X = df[['Credit Score']]\n",
    "y = df['Loan Approved']"
   ]
  },
  {
   "cell_type": "code",
   "execution_count": 16,
   "id": "5edfd9cf",
   "metadata": {},
   "outputs": [
    {
     "data": {
      "text/html": [
       "<style>#sk-container-id-2 {color: black;background-color: white;}#sk-container-id-2 pre{padding: 0;}#sk-container-id-2 div.sk-toggleable {background-color: white;}#sk-container-id-2 label.sk-toggleable__label {cursor: pointer;display: block;width: 100%;margin-bottom: 0;padding: 0.3em;box-sizing: border-box;text-align: center;}#sk-container-id-2 label.sk-toggleable__label-arrow:before {content: \"▸\";float: left;margin-right: 0.25em;color: #696969;}#sk-container-id-2 label.sk-toggleable__label-arrow:hover:before {color: black;}#sk-container-id-2 div.sk-estimator:hover label.sk-toggleable__label-arrow:before {color: black;}#sk-container-id-2 div.sk-toggleable__content {max-height: 0;max-width: 0;overflow: hidden;text-align: left;background-color: #f0f8ff;}#sk-container-id-2 div.sk-toggleable__content pre {margin: 0.2em;color: black;border-radius: 0.25em;background-color: #f0f8ff;}#sk-container-id-2 input.sk-toggleable__control:checked~div.sk-toggleable__content {max-height: 200px;max-width: 100%;overflow: auto;}#sk-container-id-2 input.sk-toggleable__control:checked~label.sk-toggleable__label-arrow:before {content: \"▾\";}#sk-container-id-2 div.sk-estimator input.sk-toggleable__control:checked~label.sk-toggleable__label {background-color: #d4ebff;}#sk-container-id-2 div.sk-label input.sk-toggleable__control:checked~label.sk-toggleable__label {background-color: #d4ebff;}#sk-container-id-2 input.sk-hidden--visually {border: 0;clip: rect(1px 1px 1px 1px);clip: rect(1px, 1px, 1px, 1px);height: 1px;margin: -1px;overflow: hidden;padding: 0;position: absolute;width: 1px;}#sk-container-id-2 div.sk-estimator {font-family: monospace;background-color: #f0f8ff;border: 1px dotted black;border-radius: 0.25em;box-sizing: border-box;margin-bottom: 0.5em;}#sk-container-id-2 div.sk-estimator:hover {background-color: #d4ebff;}#sk-container-id-2 div.sk-parallel-item::after {content: \"\";width: 100%;border-bottom: 1px solid gray;flex-grow: 1;}#sk-container-id-2 div.sk-label:hover label.sk-toggleable__label {background-color: #d4ebff;}#sk-container-id-2 div.sk-serial::before {content: \"\";position: absolute;border-left: 1px solid gray;box-sizing: border-box;top: 0;bottom: 0;left: 50%;z-index: 0;}#sk-container-id-2 div.sk-serial {display: flex;flex-direction: column;align-items: center;background-color: white;padding-right: 0.2em;padding-left: 0.2em;position: relative;}#sk-container-id-2 div.sk-item {position: relative;z-index: 1;}#sk-container-id-2 div.sk-parallel {display: flex;align-items: stretch;justify-content: center;background-color: white;position: relative;}#sk-container-id-2 div.sk-item::before, #sk-container-id-2 div.sk-parallel-item::before {content: \"\";position: absolute;border-left: 1px solid gray;box-sizing: border-box;top: 0;bottom: 0;left: 50%;z-index: -1;}#sk-container-id-2 div.sk-parallel-item {display: flex;flex-direction: column;z-index: 1;position: relative;background-color: white;}#sk-container-id-2 div.sk-parallel-item:first-child::after {align-self: flex-end;width: 50%;}#sk-container-id-2 div.sk-parallel-item:last-child::after {align-self: flex-start;width: 50%;}#sk-container-id-2 div.sk-parallel-item:only-child::after {width: 0;}#sk-container-id-2 div.sk-dashed-wrapped {border: 1px dashed gray;margin: 0 0.4em 0.5em 0.4em;box-sizing: border-box;padding-bottom: 0.4em;background-color: white;}#sk-container-id-2 div.sk-label label {font-family: monospace;font-weight: bold;display: inline-block;line-height: 1.2em;}#sk-container-id-2 div.sk-label-container {text-align: center;}#sk-container-id-2 div.sk-container {/* jupyter's `normalize.less` sets `[hidden] { display: none; }` but bootstrap.min.css set `[hidden] { display: none !important; }` so we also need the `!important` here to be able to override the default hidden behavior on the sphinx rendered scikit-learn.org. See: https://github.com/scikit-learn/scikit-learn/issues/21755 */display: inline-block !important;position: relative;}#sk-container-id-2 div.sk-text-repr-fallback {display: none;}</style><div id=\"sk-container-id-2\" class=\"sk-top-container\"><div class=\"sk-text-repr-fallback\"><pre>LogisticRegression()</pre><b>In a Jupyter environment, please rerun this cell to show the HTML representation or trust the notebook. <br />On GitHub, the HTML representation is unable to render, please try loading this page with nbviewer.org.</b></div><div class=\"sk-container\" hidden><div class=\"sk-item\"><div class=\"sk-estimator sk-toggleable\"><input class=\"sk-toggleable__control sk-hidden--visually\" id=\"sk-estimator-id-2\" type=\"checkbox\" checked><label for=\"sk-estimator-id-2\" class=\"sk-toggleable__label sk-toggleable__label-arrow\">LogisticRegression</label><div class=\"sk-toggleable__content\"><pre>LogisticRegression()</pre></div></div></div></div></div>"
      ],
      "text/plain": [
       "LogisticRegression()"
      ]
     },
     "execution_count": 16,
     "metadata": {},
     "output_type": "execute_result"
    }
   ],
   "source": [
    "# Split data into training and testing sets\n",
    "X_train, X_test, y_train, y_test = train_test_split(X, y, test_size=0.2, random_state=42)\n",
    "\n",
    "# Logistic Regression Model\n",
    "model = LogisticRegression()\n",
    "model.fit(X_train, y_train)\n"
   ]
  },
  {
   "cell_type": "markdown",
   "id": "5f7938f0",
   "metadata": {},
   "source": [
    "## LogisticRegression Parameters\n",
    "\n",
    "penalty : {'l1', 'l2', 'elasticnet', None}, default='l2'\n",
    "    Specify the norm of the penalty:\n",
    "\n",
    "    - `None`: no penalty is added;\n",
    "    - `'l2'`: add a L2 penalty term and it is the default choice;\n",
    "    - `'l1'`: add a L1 penalty term;\n",
    "    - `'elasticnet'`: both L1 and L2 penalty terms are added.\n",
    "\n",
    "\n",
    "\n",
    "C : float, default=1.0\n",
    "    Inverse of regularization strength; must be a positive float.\n",
    "    Smaller values specify stronger regularization.\n",
    "\n",
    "class_weight : dict or 'balanced', default=None\n",
    "    Weights associated with classes in the form ``{class_label: weight}``.\n",
    "    If not given, all classes are supposed to have weight one.\n",
    "\n",
    "    The \"balanced\" mode uses the values of y to automatically adjust\n",
    "    weights inversely proportional to class frequencies in the input data\n",
    "    as ``n_samples / (n_classes * np.bincount(y))``.\n",
    "\n",
    "    Note that these weights will be multiplied with sample_weight (passed\n",
    "    through the fit method) if sample_weight is specified.\n",
    "\n",
    "random_state : int, RandomState instance, default=None\n",
    "    Used when ``solver`` == 'sag', 'saga' or 'liblinear' to shuffle the\n",
    "    data. \n",
    "\n",
    "solver : {'lbfgs', 'liblinear', 'newton-cg', 'newton-cholesky', 'sag', 'saga'},             default='lbfgs'\n",
    "\n",
    "    Algorithm to use in the optimization problem. Default is 'lbfgs'.\n",
    "    To choose a solver, you might want to consider the following aspects:\n",
    "\n",
    "        - For small datasets, 'liblinear' is a good choice, whereas 'sag'\n",
    "          and 'saga' are faster for large ones;\n",
    "        - For multiclass problems, only 'newton-cg', 'sag', 'saga' and\n",
    "          'lbfgs' handle multinomial loss;\n",
    "        - 'liblinear' is limited to one-versus-rest schemes.\n",
    "        - 'newton-cholesky' is a good choice for `n_samples` >> `n_features`,\n",
    "          especially with one-hot encoded categorical features with rare\n",
    "          categories. Note that it is limited to binary classification and the\n",
    "          one-versus-rest reduction for multiclass classification. Be aware that\n",
    "          the memory usage of this solver has a quadratic dependency on\n",
    "          `n_features` because it explicitly computes the Hessian matrix.\n",
    "\n",
    "       The choice of the algorithm depends on the penalty chosen.\n",
    "       Supported penalties by solver:\n",
    "\n",
    "       - 'lbfgs'           -   ['l2', None]\n",
    "       - 'liblinear'       -   ['l1', 'l2']\n",
    "       - 'newton-cg'       -   ['l2', None]\n",
    "       - 'newton-cholesky' -   ['l2', None]\n",
    "       - 'sag'             -   ['l2', None]\n",
    "       - 'saga'            -   ['elasticnet', 'l1', 'l2', None]\n",
    "\n",
    "    .. note::\n",
    "       'sag' and 'saga' fast convergence is only guaranteed on features\n",
    "       with approximately the same scale. You can preprocess the data with\n",
    "       a scaler from :mod:`sklearn.preprocessing`.\n",
    "    \n",
    "max_iter : int, default=100\n",
    "    Maximum number of iterations taken for the solvers to converge.\n",
    "\n",
    "multi_class : {'auto', 'ovr', 'multinomial'}, default='auto'\n",
    "    If the option chosen is 'ovr', then a binary problem is fit for each\n",
    "    label. For 'multinomial' the loss minimised is the multinomial loss fit\n",
    "    across the entire probability distribution, *even when the data is\n",
    "    binary*. 'multinomial' is unavailable when solver='liblinear'.\n",
    "    'auto' selects 'ovr' if the data is binary, or if solver='liblinear',\n",
    "    and otherwise selects 'multinomial'.\n",
    "    \n",
    "n_jobs : int, default=None\n",
    "    Number of CPU cores used when parallelizing \n",
    "    \n",
    "l1_ratio : float, default=None\n",
    "    The Elastic-Net mixing parameter, with ``0 <= l1_ratio <= 1``. Only\n",
    "    used if ``penalty='elasticnet'``. Setting ``l1_ratio=0`` is equivalent\n",
    "    to using ``penalty='l2'``, while setting ``l1_ratio=1`` is equivalent\n",
    "    to using ``penalty='l1'``. For ``0 < l1_ratio <1``, the penalty is a\n",
    "    combination of L1 and L2."
   ]
  },
  {
   "cell_type": "code",
   "execution_count": 17,
   "id": "878f28e2",
   "metadata": {},
   "outputs": [
    {
     "name": "stdout",
     "output_type": "stream",
     "text": [
      "Accuracy: 0.8\n"
     ]
    },
    {
     "name": "stderr",
     "output_type": "stream",
     "text": [
      "C:\\Users\\nilay\\anaconda3\\lib\\site-packages\\sklearn\\metrics\\_classification.py:1344: UndefinedMetricWarning: Precision and F-score are ill-defined and being set to 0.0 in labels with no predicted samples. Use `zero_division` parameter to control this behavior.\n",
      "  _warn_prf(average, modifier, msg_start, len(result))\n",
      "C:\\Users\\nilay\\anaconda3\\lib\\site-packages\\sklearn\\metrics\\_classification.py:1344: UndefinedMetricWarning: Precision and F-score are ill-defined and being set to 0.0 in labels with no predicted samples. Use `zero_division` parameter to control this behavior.\n",
      "  _warn_prf(average, modifier, msg_start, len(result))\n",
      "C:\\Users\\nilay\\anaconda3\\lib\\site-packages\\sklearn\\metrics\\_classification.py:1344: UndefinedMetricWarning: Precision and F-score are ill-defined and being set to 0.0 in labels with no predicted samples. Use `zero_division` parameter to control this behavior.\n",
      "  _warn_prf(average, modifier, msg_start, len(result))\n"
     ]
    }
   ],
   "source": [
    "# Predict on test data\n",
    "y_pred = model.predict(X_test)\n",
    "\n",
    "# Evaluate the model\n",
    "accuracy = accuracy_score(y_test, y_pred)\n",
    "conf_matrix = confusion_matrix(y_test, y_pred)\n",
    "class_report = classification_report(y_test, y_pred)\n",
    "\n",
    "print(f\"Accuracy: {accuracy}\")"
   ]
  }
 ],
 "metadata": {
  "kernelspec": {
   "display_name": "Python 3 (ipykernel)",
   "language": "python",
   "name": "python3"
  },
  "language_info": {
   "codemirror_mode": {
    "name": "ipython",
    "version": 3
   },
   "file_extension": ".py",
   "mimetype": "text/x-python",
   "name": "python",
   "nbconvert_exporter": "python",
   "pygments_lexer": "ipython3",
   "version": "3.10.9"
  }
 },
 "nbformat": 4,
 "nbformat_minor": 5
}
