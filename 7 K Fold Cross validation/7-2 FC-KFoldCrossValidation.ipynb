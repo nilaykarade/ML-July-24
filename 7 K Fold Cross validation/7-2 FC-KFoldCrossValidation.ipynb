{
 "cells": [
  {
   "cell_type": "code",
   "execution_count": 1,
   "id": "654736a1",
   "metadata": {},
   "outputs": [],
   "source": [
    "import pandas as pd\n",
    "import numpy as np\n",
    "#from sklearn.model_selection import train_test_split\n",
    "from sklearn.model_selection import cross_val_score, KFold\n",
    "from sklearn.linear_model import LinearRegression,Ridge, Lasso, ElasticNet\n",
    "from sklearn.metrics import mean_squared_error, mean_absolute_error, r2_score\n",
    "import seaborn as sns"
   ]
  },
  {
   "cell_type": "code",
   "execution_count": 2,
   "id": "fdfdb485",
   "metadata": {},
   "outputs": [],
   "source": [
    "# Load the dataset\n",
    "df = pd.read_csv('car_data_v2.csv')"
   ]
  },
  {
   "cell_type": "code",
   "execution_count": 3,
   "id": "6cd4f194",
   "metadata": {},
   "outputs": [
    {
     "data": {
      "text/html": [
       "<div>\n",
       "<style scoped>\n",
       "    .dataframe tbody tr th:only-of-type {\n",
       "        vertical-align: middle;\n",
       "    }\n",
       "\n",
       "    .dataframe tbody tr th {\n",
       "        vertical-align: top;\n",
       "    }\n",
       "\n",
       "    .dataframe thead th {\n",
       "        text-align: right;\n",
       "    }\n",
       "</style>\n",
       "<table border=\"1\" class=\"dataframe\">\n",
       "  <thead>\n",
       "    <tr style=\"text-align: right;\">\n",
       "      <th></th>\n",
       "      <th>car_name</th>\n",
       "      <th>brand</th>\n",
       "      <th>model</th>\n",
       "      <th>vehicle_age</th>\n",
       "      <th>km_driven</th>\n",
       "      <th>mileage</th>\n",
       "      <th>max_power</th>\n",
       "      <th>seats</th>\n",
       "      <th>selling_price</th>\n",
       "    </tr>\n",
       "  </thead>\n",
       "  <tbody>\n",
       "    <tr>\n",
       "      <th>0</th>\n",
       "      <td>Maruti Alto</td>\n",
       "      <td>Maruti</td>\n",
       "      <td>Alto</td>\n",
       "      <td>9</td>\n",
       "      <td>120000</td>\n",
       "      <td>19.70</td>\n",
       "      <td>46.30</td>\n",
       "      <td>5</td>\n",
       "      <td>120000</td>\n",
       "    </tr>\n",
       "    <tr>\n",
       "      <th>1</th>\n",
       "      <td>Maruti Alto</td>\n",
       "      <td>Maruti</td>\n",
       "      <td>Alto</td>\n",
       "      <td>9</td>\n",
       "      <td>37000</td>\n",
       "      <td>20.92</td>\n",
       "      <td>67.10</td>\n",
       "      <td>5</td>\n",
       "      <td>226000</td>\n",
       "    </tr>\n",
       "    <tr>\n",
       "      <th>2</th>\n",
       "      <td>Maruti Wagon R</td>\n",
       "      <td>Maruti</td>\n",
       "      <td>Wagon R</td>\n",
       "      <td>8</td>\n",
       "      <td>35000</td>\n",
       "      <td>18.90</td>\n",
       "      <td>67.10</td>\n",
       "      <td>5</td>\n",
       "      <td>350000</td>\n",
       "    </tr>\n",
       "    <tr>\n",
       "      <th>3</th>\n",
       "      <td>Maruti Wagon R</td>\n",
       "      <td>Maruti</td>\n",
       "      <td>Wagon R</td>\n",
       "      <td>3</td>\n",
       "      <td>17512</td>\n",
       "      <td>20.51</td>\n",
       "      <td>67.04</td>\n",
       "      <td>5</td>\n",
       "      <td>410000</td>\n",
       "    </tr>\n",
       "    <tr>\n",
       "      <th>4</th>\n",
       "      <td>Hyundai Venue</td>\n",
       "      <td>Hyundai</td>\n",
       "      <td>Venue</td>\n",
       "      <td>2</td>\n",
       "      <td>20000</td>\n",
       "      <td>18.15</td>\n",
       "      <td>118.35</td>\n",
       "      <td>5</td>\n",
       "      <td>1050000</td>\n",
       "    </tr>\n",
       "  </tbody>\n",
       "</table>\n",
       "</div>"
      ],
      "text/plain": [
       "         car_name    brand    model  vehicle_age  km_driven  mileage  \\\n",
       "0     Maruti Alto   Maruti     Alto            9     120000    19.70   \n",
       "1     Maruti Alto   Maruti     Alto            9      37000    20.92   \n",
       "2  Maruti Wagon R   Maruti  Wagon R            8      35000    18.90   \n",
       "3  Maruti Wagon R   Maruti  Wagon R            3      17512    20.51   \n",
       "4   Hyundai Venue  Hyundai    Venue            2      20000    18.15   \n",
       "\n",
       "   max_power  seats  selling_price  \n",
       "0      46.30      5         120000  \n",
       "1      67.10      5         226000  \n",
       "2      67.10      5         350000  \n",
       "3      67.04      5         410000  \n",
       "4     118.35      5        1050000  "
      ]
     },
     "execution_count": 3,
     "metadata": {},
     "output_type": "execute_result"
    }
   ],
   "source": [
    "df.head()"
   ]
  },
  {
   "cell_type": "code",
   "execution_count": 4,
   "id": "c28795be",
   "metadata": {},
   "outputs": [
    {
     "name": "stdout",
     "output_type": "stream",
     "text": [
      "<class 'pandas.core.frame.DataFrame'>\n",
      "RangeIndex: 2119 entries, 0 to 2118\n",
      "Data columns (total 9 columns):\n",
      " #   Column         Non-Null Count  Dtype  \n",
      "---  ------         --------------  -----  \n",
      " 0   car_name       2119 non-null   object \n",
      " 1   brand          2119 non-null   object \n",
      " 2   model          2119 non-null   object \n",
      " 3   vehicle_age    2119 non-null   int64  \n",
      " 4   km_driven      2119 non-null   int64  \n",
      " 5   mileage        2119 non-null   float64\n",
      " 6   max_power      2119 non-null   float64\n",
      " 7   seats          2119 non-null   int64  \n",
      " 8   selling_price  2119 non-null   int64  \n",
      "dtypes: float64(2), int64(4), object(3)\n",
      "memory usage: 149.1+ KB\n"
     ]
    }
   ],
   "source": [
    "df.info()"
   ]
  },
  {
   "cell_type": "code",
   "execution_count": 5,
   "id": "5f1c976d",
   "metadata": {},
   "outputs": [
    {
     "data": {
      "text/html": [
       "<div>\n",
       "<style scoped>\n",
       "    .dataframe tbody tr th:only-of-type {\n",
       "        vertical-align: middle;\n",
       "    }\n",
       "\n",
       "    .dataframe tbody tr th {\n",
       "        vertical-align: top;\n",
       "    }\n",
       "\n",
       "    .dataframe thead th {\n",
       "        text-align: right;\n",
       "    }\n",
       "</style>\n",
       "<table border=\"1\" class=\"dataframe\">\n",
       "  <thead>\n",
       "    <tr style=\"text-align: right;\">\n",
       "      <th></th>\n",
       "      <th>vehicle_age</th>\n",
       "      <th>km_driven</th>\n",
       "      <th>mileage</th>\n",
       "      <th>max_power</th>\n",
       "      <th>seats</th>\n",
       "      <th>selling_price</th>\n",
       "    </tr>\n",
       "  </thead>\n",
       "  <tbody>\n",
       "    <tr>\n",
       "      <th>count</th>\n",
       "      <td>2119.000000</td>\n",
       "      <td>2119.000000</td>\n",
       "      <td>2119.000000</td>\n",
       "      <td>2119.000000</td>\n",
       "      <td>2119.000000</td>\n",
       "      <td>2.119000e+03</td>\n",
       "    </tr>\n",
       "    <tr>\n",
       "      <th>mean</th>\n",
       "      <td>6.153374</td>\n",
       "      <td>42207.621992</td>\n",
       "      <td>22.574856</td>\n",
       "      <td>61.802931</td>\n",
       "      <td>5.002832</td>\n",
       "      <td>3.287744e+05</td>\n",
       "    </tr>\n",
       "    <tr>\n",
       "      <th>std</th>\n",
       "      <td>3.524845</td>\n",
       "      <td>27950.561196</td>\n",
       "      <td>3.008683</td>\n",
       "      <td>13.112960</td>\n",
       "      <td>0.176503</td>\n",
       "      <td>1.496699e+05</td>\n",
       "    </tr>\n",
       "    <tr>\n",
       "      <th>min</th>\n",
       "      <td>0.000000</td>\n",
       "      <td>581.000000</td>\n",
       "      <td>14.400000</td>\n",
       "      <td>38.400000</td>\n",
       "      <td>4.000000</td>\n",
       "      <td>4.000000e+04</td>\n",
       "    </tr>\n",
       "    <tr>\n",
       "      <th>25%</th>\n",
       "      <td>4.000000</td>\n",
       "      <td>21000.000000</td>\n",
       "      <td>20.510000</td>\n",
       "      <td>53.260000</td>\n",
       "      <td>5.000000</td>\n",
       "      <td>2.490000e+05</td>\n",
       "    </tr>\n",
       "    <tr>\n",
       "      <th>50%</th>\n",
       "      <td>5.000000</td>\n",
       "      <td>38000.000000</td>\n",
       "      <td>22.740000</td>\n",
       "      <td>67.000000</td>\n",
       "      <td>5.000000</td>\n",
       "      <td>3.150000e+05</td>\n",
       "    </tr>\n",
       "    <tr>\n",
       "      <th>75%</th>\n",
       "      <td>8.000000</td>\n",
       "      <td>58494.000000</td>\n",
       "      <td>23.950000</td>\n",
       "      <td>67.050000</td>\n",
       "      <td>5.000000</td>\n",
       "      <td>3.900000e+05</td>\n",
       "    </tr>\n",
       "    <tr>\n",
       "      <th>max</th>\n",
       "      <td>29.000000</td>\n",
       "      <td>425785.000000</td>\n",
       "      <td>33.540000</td>\n",
       "      <td>123.370000</td>\n",
       "      <td>7.000000</td>\n",
       "      <td>1.240000e+06</td>\n",
       "    </tr>\n",
       "  </tbody>\n",
       "</table>\n",
       "</div>"
      ],
      "text/plain": [
       "       vehicle_age      km_driven      mileage    max_power        seats  \\\n",
       "count  2119.000000    2119.000000  2119.000000  2119.000000  2119.000000   \n",
       "mean      6.153374   42207.621992    22.574856    61.802931     5.002832   \n",
       "std       3.524845   27950.561196     3.008683    13.112960     0.176503   \n",
       "min       0.000000     581.000000    14.400000    38.400000     4.000000   \n",
       "25%       4.000000   21000.000000    20.510000    53.260000     5.000000   \n",
       "50%       5.000000   38000.000000    22.740000    67.000000     5.000000   \n",
       "75%       8.000000   58494.000000    23.950000    67.050000     5.000000   \n",
       "max      29.000000  425785.000000    33.540000   123.370000     7.000000   \n",
       "\n",
       "       selling_price  \n",
       "count   2.119000e+03  \n",
       "mean    3.287744e+05  \n",
       "std     1.496699e+05  \n",
       "min     4.000000e+04  \n",
       "25%     2.490000e+05  \n",
       "50%     3.150000e+05  \n",
       "75%     3.900000e+05  \n",
       "max     1.240000e+06  "
      ]
     },
     "execution_count": 5,
     "metadata": {},
     "output_type": "execute_result"
    }
   ],
   "source": [
    "df.describe()"
   ]
  },
  {
   "cell_type": "code",
   "execution_count": 6,
   "id": "01081dc1",
   "metadata": {},
   "outputs": [
    {
     "data": {
      "text/plain": [
       "car_name         0\n",
       "brand            0\n",
       "model            0\n",
       "vehicle_age      0\n",
       "km_driven        0\n",
       "mileage          0\n",
       "max_power        0\n",
       "seats            0\n",
       "selling_price    0\n",
       "dtype: int64"
      ]
     },
     "execution_count": 6,
     "metadata": {},
     "output_type": "execute_result"
    }
   ],
   "source": [
    "df.isnull().sum()"
   ]
  },
  {
   "cell_type": "code",
   "execution_count": 7,
   "id": "f559025f",
   "metadata": {},
   "outputs": [
    {
     "data": {
      "text/plain": [
       "(2119, 9)"
      ]
     },
     "execution_count": 7,
     "metadata": {},
     "output_type": "execute_result"
    }
   ],
   "source": [
    "df.shape"
   ]
  },
  {
   "cell_type": "code",
   "execution_count": 8,
   "id": "ddeec9b5",
   "metadata": {},
   "outputs": [
    {
     "name": "stderr",
     "output_type": "stream",
     "text": [
      "C:\\Users\\nilay\\AppData\\Local\\Temp\\ipykernel_9808\\4277794465.py:1: FutureWarning: The default value of numeric_only in DataFrame.corr is deprecated. In a future version, it will default to False. Select only valid columns or specify the value of numeric_only to silence this warning.\n",
      "  sns.heatmap(df.corr(),annot=True)\n"
     ]
    },
    {
     "data": {
      "text/plain": [
       "<Axes: >"
      ]
     },
     "execution_count": 8,
     "metadata": {},
     "output_type": "execute_result"
    },
    {
     "data": {
      "image/png": "[encoded data removed]",
      "text/plain": [
       "<Figure size 640x480 with 2 Axes>"
      ]
     },
     "metadata": {},
     "output_type": "display_data"
    }
   ],
   "source": [
    "sns.heatmap(df.corr(),annot=True)"
   ]
  },
  {
   "cell_type": "code",
   "execution_count": 9,
   "id": "c85833be",
   "metadata": {
    "collapsed": true
   },
   "outputs": [
    {
     "data": {
      "text/html": [
       "<div>\n",
       "<style scoped>\n",
       "    .dataframe tbody tr th:only-of-type {\n",
       "        vertical-align: middle;\n",
       "    }\n",
       "\n",
       "    .dataframe tbody tr th {\n",
       "        vertical-align: top;\n",
       "    }\n",
       "\n",
       "    .dataframe thead th {\n",
       "        text-align: right;\n",
       "    }\n",
       "</style>\n",
       "<table border=\"1\" class=\"dataframe\">\n",
       "  <thead>\n",
       "    <tr style=\"text-align: right;\">\n",
       "      <th></th>\n",
       "      <th>vehicle_age</th>\n",
       "      <th>max_power</th>\n",
       "    </tr>\n",
       "  </thead>\n",
       "  <tbody>\n",
       "    <tr>\n",
       "      <th>0</th>\n",
       "      <td>9</td>\n",
       "      <td>46.30</td>\n",
       "    </tr>\n",
       "    <tr>\n",
       "      <th>1</th>\n",
       "      <td>9</td>\n",
       "      <td>67.10</td>\n",
       "    </tr>\n",
       "    <tr>\n",
       "      <th>2</th>\n",
       "      <td>8</td>\n",
       "      <td>67.10</td>\n",
       "    </tr>\n",
       "    <tr>\n",
       "      <th>3</th>\n",
       "      <td>3</td>\n",
       "      <td>67.04</td>\n",
       "    </tr>\n",
       "    <tr>\n",
       "      <th>4</th>\n",
       "      <td>2</td>\n",
       "      <td>118.35</td>\n",
       "    </tr>\n",
       "    <tr>\n",
       "      <th>...</th>\n",
       "      <td>...</td>\n",
       "      <td>...</td>\n",
       "    </tr>\n",
       "    <tr>\n",
       "      <th>2114</th>\n",
       "      <td>6</td>\n",
       "      <td>67.04</td>\n",
       "    </tr>\n",
       "    <tr>\n",
       "      <th>2115</th>\n",
       "      <td>7</td>\n",
       "      <td>47.30</td>\n",
       "    </tr>\n",
       "    <tr>\n",
       "      <th>2116</th>\n",
       "      <td>4</td>\n",
       "      <td>67.00</td>\n",
       "    </tr>\n",
       "    <tr>\n",
       "      <th>2117</th>\n",
       "      <td>4</td>\n",
       "      <td>47.30</td>\n",
       "    </tr>\n",
       "    <tr>\n",
       "      <th>2118</th>\n",
       "      <td>2</td>\n",
       "      <td>53.30</td>\n",
       "    </tr>\n",
       "  </tbody>\n",
       "</table>\n",
       "<p>2119 rows × 2 columns</p>\n",
       "</div>"
      ],
      "text/plain": [
       "      vehicle_age  max_power\n",
       "0               9      46.30\n",
       "1               9      67.10\n",
       "2               8      67.10\n",
       "3               3      67.04\n",
       "4               2     118.35\n",
       "...           ...        ...\n",
       "2114            6      67.04\n",
       "2115            7      47.30\n",
       "2116            4      67.00\n",
       "2117            4      47.30\n",
       "2118            2      53.30\n",
       "\n",
       "[2119 rows x 2 columns]"
      ]
     },
     "execution_count": 9,
     "metadata": {},
     "output_type": "execute_result"
    }
   ],
   "source": [
    "# Features and target\n",
    "X = df[[ 'vehicle_age', 'max_power']]\n",
    "#X=df.drop('selling_price',axis=1)\n",
    "y = df['selling_price']\n",
    "X"
   ]
  },
  {
   "cell_type": "code",
   "execution_count": 12,
   "id": "a13b63cd",
   "metadata": {
    "scrolled": true
   },
   "outputs": [],
   "source": [
    "# create multiple linear regression model\n",
    "model = LinearRegression()"
   ]
  },
  {
   "cell_type": "code",
   "execution_count": 13,
   "id": "484fa65b",
   "metadata": {},
   "outputs": [
    {
     "data": {
      "text/plain": [
       "array([0.740032  , 0.76962997, 0.77308338, 0.71361647, 0.74942979])"
      ]
     },
     "execution_count": 13,
     "metadata": {},
     "output_type": "execute_result"
    }
   ],
   "source": [
    "# Perform K-Fold Cross-Validation\n",
    "kfold = KFold(n_splits=5, shuffle=True, random_state=0)\n",
    "cv_scores = cross_val_score(model, X, y, cv=kfold, scoring='r2')\n",
    "cv_scores"
   ]
  },
  {
   "cell_type": "code",
   "execution_count": null,
   "id": "c8d27eb9",
   "metadata": {},
   "outputs": [],
   "source": [
    "#Task - implement KFold technique for ridge, lasso and elastic net"
   ]
  }
 ],
 "metadata": {
  "kernelspec": {
   "display_name": "Python 3 (ipykernel)",
   "language": "python",
   "name": "python3"
  },
  "language_info": {
   "codemirror_mode": {
    "name": "ipython",
    "version": 3
   },
   "file_extension": ".py",
   "mimetype": "text/x-python",
   "name": "python",
   "nbconvert_exporter": "python",
   "pygments_lexer": "ipython3",
   "version": "3.10.9"
  }
 },
 "nbformat": 4,
 "nbformat_minor": 5
}
